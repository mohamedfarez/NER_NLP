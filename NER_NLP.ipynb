{
  "nbformat": 4,
  "nbformat_minor": 0,
  "metadata": {
    "colab": {
      "provenance": []
    },
    "kernelspec": {
      "name": "python3",
      "display_name": "Python 3"
    },
    "language_info": {
      "name": "python"
    }
  },
  "cells": [
    {
      "cell_type": "code",
      "source": [
        "import pandas as pd\n",
        "import spacy\n",
        "from spacy.tokens import DocBin\n",
        "from spacy.training.example import Example\n",
        "from spacy.util import minibatch\n",
        "import matplotlib.pyplot as plt\n",
        "import seaborn as sns\n",
        "from sklearn.model_selection import train_test_split"
      ],
      "metadata": {
        "id": "qobuYyyhQbzK"
      },
      "execution_count": 6,
      "outputs": []
    },
    {
      "cell_type": "code",
      "source": [
        "import pandas as pd\n",
        "\n",
        "# Try reading only the first few rows to see if the error persists\n",
        "try:\n",
        "    data = pd.read_csv('NER_Dataset.csv', nrows=1000)\n",
        "    print(\"Successfully read the first 1000 rows. The issue might be in the later part of the file.\")\n",
        "except pd.errors.ParserError as e:\n",
        "    print(f\"Error still occurs even when reading a smaller portion: {e}\")\n",
        "\n"
      ],
      "metadata": {
        "colab": {
          "base_uri": "https://localhost:8080/"
        },
        "id": "h3Qhe0DqQxAb",
        "outputId": "50b3ce4a-9fe8-4dbc-9c02-e9f3ec4884a0"
      },
      "execution_count": 8,
      "outputs": [
        {
          "output_type": "stream",
          "name": "stdout",
          "text": [
            "Successfully read the first 1000 rows. The issue might be in the later part of the file.\n"
          ]
        }
      ]
    },
    {
      "cell_type": "code",
      "source": [
        "data.head()"
      ],
      "metadata": {
        "colab": {
          "base_uri": "https://localhost:8080/",
          "height": 206
        },
        "id": "Kso5S6LeQzBq",
        "outputId": "0e949d25-e421-44da-f264-c9cd1e3d1bc9"
      },
      "execution_count": 9,
      "outputs": [
        {
          "output_type": "execute_result",
          "data": {
            "text/plain": [
              "       Sentence_ID                                               Word  \\\n",
              "0      Sentence: 1  ['Thousands', 'of', 'demonstrators', 'have', '...   \n",
              "1     Sentence: 10  ['Iranian', 'officials', 'say', 'they', 'expec...   \n",
              "2    Sentence: 100  ['Helicopter', 'gunships', 'Saturday', 'pounde...   \n",
              "3   Sentence: 1000  ['They', 'left', 'after', 'a', 'tense', 'hour-...   \n",
              "4  Sentence: 10000  ['U.N.', 'relief', 'coordinator', 'Jan', 'Egel...   \n",
              "\n",
              "                                                 POS  \\\n",
              "0  ['NNS', 'IN', 'NNS', 'VBP', 'VBN', 'IN', 'NNP'...   \n",
              "1  ['JJ', 'NNS', 'VBP', 'PRP', 'VBP', 'TO', 'VB',...   \n",
              "2  ['NN', 'NNS', 'NNP', 'VBD', 'JJ', 'NNS', 'IN',...   \n",
              "3  ['PRP', 'VBD', 'IN', 'DT', 'NN', 'JJ', 'NN', '...   \n",
              "4  ['NNP', 'NN', 'NN', 'NNP', 'NNP', 'VBD', 'NNP'...   \n",
              "\n",
              "                                                 Tag  \n",
              "0  ['O', 'O', 'O', 'O', 'O', 'O', 'B-geo', 'O', '...  \n",
              "1  ['B-gpe', 'O', 'O', 'O', 'O', 'O', 'O', 'O', '...  \n",
              "2  ['O', 'O', 'B-tim', 'O', 'O', 'O', 'O', 'O', '...  \n",
              "3  ['O', 'O', 'O', 'O', 'O', 'O', 'O', 'O', 'O', ...  \n",
              "4  ['B-geo', 'O', 'O', 'B-per', 'I-per', 'O', 'B-...  "
            ],
            "text/html": [
              "\n",
              "  <div id=\"df-64066f0e-603f-4851-bba0-e853202329a9\" class=\"colab-df-container\">\n",
              "    <div>\n",
              "<style scoped>\n",
              "    .dataframe tbody tr th:only-of-type {\n",
              "        vertical-align: middle;\n",
              "    }\n",
              "\n",
              "    .dataframe tbody tr th {\n",
              "        vertical-align: top;\n",
              "    }\n",
              "\n",
              "    .dataframe thead th {\n",
              "        text-align: right;\n",
              "    }\n",
              "</style>\n",
              "<table border=\"1\" class=\"dataframe\">\n",
              "  <thead>\n",
              "    <tr style=\"text-align: right;\">\n",
              "      <th></th>\n",
              "      <th>Sentence_ID</th>\n",
              "      <th>Word</th>\n",
              "      <th>POS</th>\n",
              "      <th>Tag</th>\n",
              "    </tr>\n",
              "  </thead>\n",
              "  <tbody>\n",
              "    <tr>\n",
              "      <th>0</th>\n",
              "      <td>Sentence: 1</td>\n",
              "      <td>['Thousands', 'of', 'demonstrators', 'have', '...</td>\n",
              "      <td>['NNS', 'IN', 'NNS', 'VBP', 'VBN', 'IN', 'NNP'...</td>\n",
              "      <td>['O', 'O', 'O', 'O', 'O', 'O', 'B-geo', 'O', '...</td>\n",
              "    </tr>\n",
              "    <tr>\n",
              "      <th>1</th>\n",
              "      <td>Sentence: 10</td>\n",
              "      <td>['Iranian', 'officials', 'say', 'they', 'expec...</td>\n",
              "      <td>['JJ', 'NNS', 'VBP', 'PRP', 'VBP', 'TO', 'VB',...</td>\n",
              "      <td>['B-gpe', 'O', 'O', 'O', 'O', 'O', 'O', 'O', '...</td>\n",
              "    </tr>\n",
              "    <tr>\n",
              "      <th>2</th>\n",
              "      <td>Sentence: 100</td>\n",
              "      <td>['Helicopter', 'gunships', 'Saturday', 'pounde...</td>\n",
              "      <td>['NN', 'NNS', 'NNP', 'VBD', 'JJ', 'NNS', 'IN',...</td>\n",
              "      <td>['O', 'O', 'B-tim', 'O', 'O', 'O', 'O', 'O', '...</td>\n",
              "    </tr>\n",
              "    <tr>\n",
              "      <th>3</th>\n",
              "      <td>Sentence: 1000</td>\n",
              "      <td>['They', 'left', 'after', 'a', 'tense', 'hour-...</td>\n",
              "      <td>['PRP', 'VBD', 'IN', 'DT', 'NN', 'JJ', 'NN', '...</td>\n",
              "      <td>['O', 'O', 'O', 'O', 'O', 'O', 'O', 'O', 'O', ...</td>\n",
              "    </tr>\n",
              "    <tr>\n",
              "      <th>4</th>\n",
              "      <td>Sentence: 10000</td>\n",
              "      <td>['U.N.', 'relief', 'coordinator', 'Jan', 'Egel...</td>\n",
              "      <td>['NNP', 'NN', 'NN', 'NNP', 'NNP', 'VBD', 'NNP'...</td>\n",
              "      <td>['B-geo', 'O', 'O', 'B-per', 'I-per', 'O', 'B-...</td>\n",
              "    </tr>\n",
              "  </tbody>\n",
              "</table>\n",
              "</div>\n",
              "    <div class=\"colab-df-buttons\">\n",
              "\n",
              "  <div class=\"colab-df-container\">\n",
              "    <button class=\"colab-df-convert\" onclick=\"convertToInteractive('df-64066f0e-603f-4851-bba0-e853202329a9')\"\n",
              "            title=\"Convert this dataframe to an interactive table.\"\n",
              "            style=\"display:none;\">\n",
              "\n",
              "  <svg xmlns=\"http://www.w3.org/2000/svg\" height=\"24px\" viewBox=\"0 -960 960 960\">\n",
              "    <path d=\"M120-120v-720h720v720H120Zm60-500h600v-160H180v160Zm220 220h160v-160H400v160Zm0 220h160v-160H400v160ZM180-400h160v-160H180v160Zm440 0h160v-160H620v160ZM180-180h160v-160H180v160Zm440 0h160v-160H620v160Z\"/>\n",
              "  </svg>\n",
              "    </button>\n",
              "\n",
              "  <style>\n",
              "    .colab-df-container {\n",
              "      display:flex;\n",
              "      gap: 12px;\n",
              "    }\n",
              "\n",
              "    .colab-df-convert {\n",
              "      background-color: #E8F0FE;\n",
              "      border: none;\n",
              "      border-radius: 50%;\n",
              "      cursor: pointer;\n",
              "      display: none;\n",
              "      fill: #1967D2;\n",
              "      height: 32px;\n",
              "      padding: 0 0 0 0;\n",
              "      width: 32px;\n",
              "    }\n",
              "\n",
              "    .colab-df-convert:hover {\n",
              "      background-color: #E2EBFA;\n",
              "      box-shadow: 0px 1px 2px rgba(60, 64, 67, 0.3), 0px 1px 3px 1px rgba(60, 64, 67, 0.15);\n",
              "      fill: #174EA6;\n",
              "    }\n",
              "\n",
              "    .colab-df-buttons div {\n",
              "      margin-bottom: 4px;\n",
              "    }\n",
              "\n",
              "    [theme=dark] .colab-df-convert {\n",
              "      background-color: #3B4455;\n",
              "      fill: #D2E3FC;\n",
              "    }\n",
              "\n",
              "    [theme=dark] .colab-df-convert:hover {\n",
              "      background-color: #434B5C;\n",
              "      box-shadow: 0px 1px 3px 1px rgba(0, 0, 0, 0.15);\n",
              "      filter: drop-shadow(0px 1px 2px rgba(0, 0, 0, 0.3));\n",
              "      fill: #FFFFFF;\n",
              "    }\n",
              "  </style>\n",
              "\n",
              "    <script>\n",
              "      const buttonEl =\n",
              "        document.querySelector('#df-64066f0e-603f-4851-bba0-e853202329a9 button.colab-df-convert');\n",
              "      buttonEl.style.display =\n",
              "        google.colab.kernel.accessAllowed ? 'block' : 'none';\n",
              "\n",
              "      async function convertToInteractive(key) {\n",
              "        const element = document.querySelector('#df-64066f0e-603f-4851-bba0-e853202329a9');\n",
              "        const dataTable =\n",
              "          await google.colab.kernel.invokeFunction('convertToInteractive',\n",
              "                                                    [key], {});\n",
              "        if (!dataTable) return;\n",
              "\n",
              "        const docLinkHtml = 'Like what you see? Visit the ' +\n",
              "          '<a target=\"_blank\" href=https://colab.research.google.com/notebooks/data_table.ipynb>data table notebook</a>'\n",
              "          + ' to learn more about interactive tables.';\n",
              "        element.innerHTML = '';\n",
              "        dataTable['output_type'] = 'display_data';\n",
              "        await google.colab.output.renderOutput(dataTable, element);\n",
              "        const docLink = document.createElement('div');\n",
              "        docLink.innerHTML = docLinkHtml;\n",
              "        element.appendChild(docLink);\n",
              "      }\n",
              "    </script>\n",
              "  </div>\n",
              "\n",
              "\n",
              "<div id=\"df-1d5654f0-90db-43bd-8154-fd4dbc56f142\">\n",
              "  <button class=\"colab-df-quickchart\" onclick=\"quickchart('df-1d5654f0-90db-43bd-8154-fd4dbc56f142')\"\n",
              "            title=\"Suggest charts\"\n",
              "            style=\"display:none;\">\n",
              "\n",
              "<svg xmlns=\"http://www.w3.org/2000/svg\" height=\"24px\"viewBox=\"0 0 24 24\"\n",
              "     width=\"24px\">\n",
              "    <g>\n",
              "        <path d=\"M19 3H5c-1.1 0-2 .9-2 2v14c0 1.1.9 2 2 2h14c1.1 0 2-.9 2-2V5c0-1.1-.9-2-2-2zM9 17H7v-7h2v7zm4 0h-2V7h2v10zm4 0h-2v-4h2v4z\"/>\n",
              "    </g>\n",
              "</svg>\n",
              "  </button>\n",
              "\n",
              "<style>\n",
              "  .colab-df-quickchart {\n",
              "      --bg-color: #E8F0FE;\n",
              "      --fill-color: #1967D2;\n",
              "      --hover-bg-color: #E2EBFA;\n",
              "      --hover-fill-color: #174EA6;\n",
              "      --disabled-fill-color: #AAA;\n",
              "      --disabled-bg-color: #DDD;\n",
              "  }\n",
              "\n",
              "  [theme=dark] .colab-df-quickchart {\n",
              "      --bg-color: #3B4455;\n",
              "      --fill-color: #D2E3FC;\n",
              "      --hover-bg-color: #434B5C;\n",
              "      --hover-fill-color: #FFFFFF;\n",
              "      --disabled-bg-color: #3B4455;\n",
              "      --disabled-fill-color: #666;\n",
              "  }\n",
              "\n",
              "  .colab-df-quickchart {\n",
              "    background-color: var(--bg-color);\n",
              "    border: none;\n",
              "    border-radius: 50%;\n",
              "    cursor: pointer;\n",
              "    display: none;\n",
              "    fill: var(--fill-color);\n",
              "    height: 32px;\n",
              "    padding: 0;\n",
              "    width: 32px;\n",
              "  }\n",
              "\n",
              "  .colab-df-quickchart:hover {\n",
              "    background-color: var(--hover-bg-color);\n",
              "    box-shadow: 0 1px 2px rgba(60, 64, 67, 0.3), 0 1px 3px 1px rgba(60, 64, 67, 0.15);\n",
              "    fill: var(--button-hover-fill-color);\n",
              "  }\n",
              "\n",
              "  .colab-df-quickchart-complete:disabled,\n",
              "  .colab-df-quickchart-complete:disabled:hover {\n",
              "    background-color: var(--disabled-bg-color);\n",
              "    fill: var(--disabled-fill-color);\n",
              "    box-shadow: none;\n",
              "  }\n",
              "\n",
              "  .colab-df-spinner {\n",
              "    border: 2px solid var(--fill-color);\n",
              "    border-color: transparent;\n",
              "    border-bottom-color: var(--fill-color);\n",
              "    animation:\n",
              "      spin 1s steps(1) infinite;\n",
              "  }\n",
              "\n",
              "  @keyframes spin {\n",
              "    0% {\n",
              "      border-color: transparent;\n",
              "      border-bottom-color: var(--fill-color);\n",
              "      border-left-color: var(--fill-color);\n",
              "    }\n",
              "    20% {\n",
              "      border-color: transparent;\n",
              "      border-left-color: var(--fill-color);\n",
              "      border-top-color: var(--fill-color);\n",
              "    }\n",
              "    30% {\n",
              "      border-color: transparent;\n",
              "      border-left-color: var(--fill-color);\n",
              "      border-top-color: var(--fill-color);\n",
              "      border-right-color: var(--fill-color);\n",
              "    }\n",
              "    40% {\n",
              "      border-color: transparent;\n",
              "      border-right-color: var(--fill-color);\n",
              "      border-top-color: var(--fill-color);\n",
              "    }\n",
              "    60% {\n",
              "      border-color: transparent;\n",
              "      border-right-color: var(--fill-color);\n",
              "    }\n",
              "    80% {\n",
              "      border-color: transparent;\n",
              "      border-right-color: var(--fill-color);\n",
              "      border-bottom-color: var(--fill-color);\n",
              "    }\n",
              "    90% {\n",
              "      border-color: transparent;\n",
              "      border-bottom-color: var(--fill-color);\n",
              "    }\n",
              "  }\n",
              "</style>\n",
              "\n",
              "  <script>\n",
              "    async function quickchart(key) {\n",
              "      const quickchartButtonEl =\n",
              "        document.querySelector('#' + key + ' button');\n",
              "      quickchartButtonEl.disabled = true;  // To prevent multiple clicks.\n",
              "      quickchartButtonEl.classList.add('colab-df-spinner');\n",
              "      try {\n",
              "        const charts = await google.colab.kernel.invokeFunction(\n",
              "            'suggestCharts', [key], {});\n",
              "      } catch (error) {\n",
              "        console.error('Error during call to suggestCharts:', error);\n",
              "      }\n",
              "      quickchartButtonEl.classList.remove('colab-df-spinner');\n",
              "      quickchartButtonEl.classList.add('colab-df-quickchart-complete');\n",
              "    }\n",
              "    (() => {\n",
              "      let quickchartButtonEl =\n",
              "        document.querySelector('#df-1d5654f0-90db-43bd-8154-fd4dbc56f142 button');\n",
              "      quickchartButtonEl.style.display =\n",
              "        google.colab.kernel.accessAllowed ? 'block' : 'none';\n",
              "    })();\n",
              "  </script>\n",
              "</div>\n",
              "\n",
              "    </div>\n",
              "  </div>\n"
            ],
            "application/vnd.google.colaboratory.intrinsic+json": {
              "type": "dataframe",
              "variable_name": "data",
              "summary": "{\n  \"name\": \"data\",\n  \"rows\": 1000,\n  \"fields\": [\n    {\n      \"column\": \"Sentence_ID\",\n      \"properties\": {\n        \"dtype\": \"string\",\n        \"num_unique_values\": 1000,\n        \"samples\": [\n          \"Sentence: 10467\",\n          \"Sentence: 10661\",\n          \"Sentence: 10664\"\n        ],\n        \"semantic_type\": \"\",\n        \"description\": \"\"\n      }\n    },\n    {\n      \"column\": \"Word\",\n      \"properties\": {\n        \"dtype\": \"string\",\n        \"num_unique_values\": 1000,\n        \"samples\": [\n          \"['Officials', 'also', 'blamed', 'the', 'weather', 'for', 'poor', 'visibility', 'that', 'led', 'to', 'traffic', 'accidents', '.']\",\n          \"['British', 'Foreign', 'Secretary', 'Jack', 'Straw', 'led', 'a', 'brief', 'ceremony', 'early', 'Tuesday', 'formally', 'opening', 'the', 'talks', '.']\",\n          \"['Ms.', 'del', 'Ponte', 'said', 'Monday', 'Croatia', 'is', 'now', 'fully', 'cooperating', 'with', 'the', 'tribunal', ',', 'but', 'the', 'EU', 'ministers', 'warn', 'talks', 'could', 'be', 'called', 'off', 'again', 'if', 'Zagreb', 'does', 'not', 'continue', 'its', 'compliance', 'with', 'the', 'Hague', 'court', '.']\"\n        ],\n        \"semantic_type\": \"\",\n        \"description\": \"\"\n      }\n    },\n    {\n      \"column\": \"POS\",\n      \"properties\": {\n        \"dtype\": \"string\",\n        \"num_unique_values\": 997,\n        \"samples\": [\n          \"['JJ', 'NNS', 'CC', 'JJ', 'NNS', 'VBP', 'VBN', 'IN', 'PRP$', 'NNS', '.']\",\n          \"['IN', 'PRP', 'VBD', 'VBG', 'IN', 'DT', 'NNS', ',', 'PRP', 'VBD', 'PRP', 'VBN', 'IN', 'DT', 'JJ', 'NN', 'IN', 'NNS', ',', 'IN', 'WP$', 'NNS', 'PRP', 'VBD', 'VBG', '.']\",\n          \"['NNS', 'NNP', 'VBD', 'IN', 'JJS', 'CD', 'NNS', 'VBD', 'VBN', 'CC', 'CD', 'NNS', 'VBD', 'VBN', 'IN', 'DT', 'NN', 'IN', 'DT', 'NNP', 'NN', '.']\"\n        ],\n        \"semantic_type\": \"\",\n        \"description\": \"\"\n      }\n    },\n    {\n      \"column\": \"Tag\",\n      \"properties\": {\n        \"dtype\": \"string\",\n        \"num_unique_values\": 877,\n        \"samples\": [\n          \"['O', 'O', 'O', 'O', 'O', 'O', 'O', 'O', 'O', 'O', 'O', 'O', 'O', 'O', 'O', 'O', 'O', 'O', 'O', 'O', 'B-geo', 'O', 'O', 'O', 'O', 'O', 'O', 'O', 'O']\",\n          \"['O', 'O', 'O', 'O', 'O', 'O', 'O', 'B-tim', 'O', 'O', 'O', 'O', 'O', 'O', 'B-geo', 'O', 'O', 'O', 'O', 'O', 'O', 'B-geo', 'O']\",\n          \"['O', 'O', 'O', 'O', 'B-tim', 'O', 'O', 'O', 'O', 'O', 'O', 'O', 'O', 'O', 'O', 'O', 'O', 'O', 'O', 'O', 'B-geo', 'O', 'O', 'O', 'O']\"\n        ],\n        \"semantic_type\": \"\",\n        \"description\": \"\"\n      }\n    }\n  ]\n}"
            }
          },
          "metadata": {},
          "execution_count": 9
        }
      ]
    },
    {
      "cell_type": "code",
      "source": [
        "data['Word'][3]"
      ],
      "metadata": {
        "colab": {
          "base_uri": "https://localhost:8080/",
          "height": 36
        },
        "id": "LeJS0hbVVCuU",
        "outputId": "5f0e8994-1675-4ded-c0a9-e53b4a1273de"
      },
      "execution_count": 11,
      "outputs": [
        {
          "output_type": "execute_result",
          "data": {
            "text/plain": [
              "\"['They', 'left', 'after', 'a', 'tense', 'hour-long', 'standoff', 'with', 'riot', 'police', '.']\""
            ],
            "application/vnd.google.colaboratory.intrinsic+json": {
              "type": "string"
            }
          },
          "metadata": {},
          "execution_count": 11
        }
      ]
    },
    {
      "cell_type": "code",
      "source": [
        "data['Tag'][3]"
      ],
      "metadata": {
        "colab": {
          "base_uri": "https://localhost:8080/",
          "height": 36
        },
        "id": "pkgbCgQsVTjx",
        "outputId": "ac2e3536-1bac-482f-97b3-9c6d31a95080"
      },
      "execution_count": 12,
      "outputs": [
        {
          "output_type": "execute_result",
          "data": {
            "text/plain": [
              "\"['O', 'O', 'O', 'O', 'O', 'O', 'O', 'O', 'O', 'O', 'O']\""
            ],
            "application/vnd.google.colaboratory.intrinsic+json": {
              "type": "string"
            }
          },
          "metadata": {},
          "execution_count": 12
        }
      ]
    },
    {
      "cell_type": "code",
      "source": [
        "data.shape"
      ],
      "metadata": {
        "colab": {
          "base_uri": "https://localhost:8080/"
        },
        "id": "qMNpqZMrVe6l",
        "outputId": "e33258ec-38a6-4d2f-82e6-bff51305208b"
      },
      "execution_count": 13,
      "outputs": [
        {
          "output_type": "execute_result",
          "data": {
            "text/plain": [
              "(1000, 4)"
            ]
          },
          "metadata": {},
          "execution_count": 13
        }
      ]
    },
    {
      "cell_type": "code",
      "source": [
        "# checking for duplicates\n",
        "duplicates_count=data.duplicated().sum()\n",
        "duplicates_count"
      ],
      "metadata": {
        "colab": {
          "base_uri": "https://localhost:8080/"
        },
        "id": "iU8rVNpIVkCN",
        "outputId": "79b2b5ca-779c-41a0-a18f-b3f6516ac852"
      },
      "execution_count": 14,
      "outputs": [
        {
          "output_type": "execute_result",
          "data": {
            "text/plain": [
              "0"
            ]
          },
          "metadata": {},
          "execution_count": 14
        }
      ]
    },
    {
      "cell_type": "code",
      "source": [
        "# Parse the data\n",
        "sentences = data['Word'].tolist()\n",
        "pos_tags = data['POS'].apply(eval).tolist()\n",
        "ner_tags = data['Tag'].apply(eval).tolist()"
      ],
      "metadata": {
        "id": "jcWmwwBqVm17"
      },
      "execution_count": 15,
      "outputs": []
    },
    {
      "cell_type": "code",
      "source": [
        "pos_tags[0]"
      ],
      "metadata": {
        "colab": {
          "base_uri": "https://localhost:8080/"
        },
        "id": "xFIs2TQ3Vtc8",
        "outputId": "6d3b8024-7089-47f3-e650-23097b4353f6"
      },
      "execution_count": 16,
      "outputs": [
        {
          "output_type": "execute_result",
          "data": {
            "text/plain": [
              "['NNS',\n",
              " 'IN',\n",
              " 'NNS',\n",
              " 'VBP',\n",
              " 'VBN',\n",
              " 'IN',\n",
              " 'NNP',\n",
              " 'TO',\n",
              " 'VB',\n",
              " 'DT',\n",
              " 'NN',\n",
              " 'IN',\n",
              " 'NNP',\n",
              " 'CC',\n",
              " 'VB',\n",
              " 'DT',\n",
              " 'NN',\n",
              " 'IN',\n",
              " 'JJ',\n",
              " 'NNS',\n",
              " 'IN',\n",
              " 'DT',\n",
              " 'NN',\n",
              " '.']"
            ]
          },
          "metadata": {},
          "execution_count": 16
        }
      ]
    },
    {
      "cell_type": "code",
      "source": [
        "ner_tags[0]"
      ],
      "metadata": {
        "colab": {
          "base_uri": "https://localhost:8080/"
        },
        "id": "OD8sGY92Vxk0",
        "outputId": "9419a038-fa15-495b-fd75-83676255aba1"
      },
      "execution_count": 17,
      "outputs": [
        {
          "output_type": "execute_result",
          "data": {
            "text/plain": [
              "['O',\n",
              " 'O',\n",
              " 'O',\n",
              " 'O',\n",
              " 'O',\n",
              " 'O',\n",
              " 'B-geo',\n",
              " 'O',\n",
              " 'O',\n",
              " 'O',\n",
              " 'O',\n",
              " 'O',\n",
              " 'B-geo',\n",
              " 'O',\n",
              " 'O',\n",
              " 'O',\n",
              " 'O',\n",
              " 'O',\n",
              " 'B-gpe',\n",
              " 'O',\n",
              " 'O',\n",
              " 'O',\n",
              " 'O',\n",
              " 'O']"
            ]
          },
          "metadata": {},
          "execution_count": 17
        }
      ]
    },
    {
      "cell_type": "code",
      "source": [
        "# Function to convert data into spaCy format\n",
        "def convert_to_spacy_format(sentences, pos_tags, ner_tags):\n",
        "    training_data = []\n",
        "    for sentence, pos, ner in zip(sentences, pos_tags, ner_tags):\n",
        "        entities = []\n",
        "        start = 0\n",
        "        for word, tag in zip(sentence.split(), ner):\n",
        "            end = start + len(word)\n",
        "            if tag != 'O':\n",
        "                entities.append((start, end, tag))\n",
        "            start = end + 1\n",
        "        training_data.append((sentence, {\"entities\": entities}))\n",
        "    return training_data"
      ],
      "metadata": {
        "id": "EhFxcBOnVzUW"
      },
      "execution_count": 18,
      "outputs": []
    },
    {
      "cell_type": "code",
      "source": [
        "# Convert data\n",
        "training_data = convert_to_spacy_format(sentences, pos_tags, ner_tags)"
      ],
      "metadata": {
        "id": "Nda_hvAyV2r_"
      },
      "execution_count": 19,
      "outputs": []
    },
    {
      "cell_type": "code",
      "source": [
        "len(training_data)"
      ],
      "metadata": {
        "colab": {
          "base_uri": "https://localhost:8080/"
        },
        "id": "1ojpE2g4V4o-",
        "outputId": "b2689a47-5696-459b-be1a-4b013b1dff1c"
      },
      "execution_count": 20,
      "outputs": [
        {
          "output_type": "execute_result",
          "data": {
            "text/plain": [
              "1000"
            ]
          },
          "metadata": {},
          "execution_count": 20
        }
      ]
    },
    {
      "cell_type": "markdown",
      "source": [
        "## **Splitting data into train, validation and test datasets**"
      ],
      "metadata": {
        "id": "Y6tkzC4LWAxC"
      }
    },
    {
      "cell_type": "code",
      "source": [
        "train_data, temp_data = train_test_split(training_data, test_size=0.2, random_state=42)\n",
        "val_data, test_data = train_test_split(temp_data, test_size=0.5, random_state=42)"
      ],
      "metadata": {
        "id": "_7EjoUNJV6O7"
      },
      "execution_count": 21,
      "outputs": []
    },
    {
      "cell_type": "code",
      "source": [
        "# Function to create a DocBin for training\n",
        "def create_docbin(training_data, nlp):\n",
        "    doc_bin = DocBin()\n",
        "    for text, annot in training_data:\n",
        "        doc = nlp.make_doc(text)\n",
        "        example = Example.from_dict(doc, annot)\n",
        "        doc_bin.add(example.reference)\n",
        "    return doc_bin"
      ],
      "metadata": {
        "id": "tfSxVNO_WHmN"
      },
      "execution_count": 22,
      "outputs": []
    },
    {
      "cell_type": "code",
      "source": [
        "# Load a pre-trained English model (small)\n",
        "nlp = spacy.load('en_core_web_sm')"
      ],
      "metadata": {
        "id": "NjUgOJiKWM6C"
      },
      "execution_count": 23,
      "outputs": []
    },
    {
      "cell_type": "code",
      "source": [
        "# Create the NER component\n",
        "ner = nlp.get_pipe('ner')"
      ],
      "metadata": {
        "id": "SybMdiC0WPBV"
      },
      "execution_count": 24,
      "outputs": []
    },
    {
      "cell_type": "code",
      "source": [
        "# Add labels\n",
        "for _, annotations in training_data:\n",
        "    for ent in annotations.get('entities'):\n",
        "        ner.add_label(ent[2])"
      ],
      "metadata": {
        "id": "Xsbr2fZIWQfn"
      },
      "execution_count": 25,
      "outputs": []
    },
    {
      "cell_type": "code",
      "source": [
        "# Create DocBin for training and validation data\n",
        "train_doc_bin = create_docbin(train_data, nlp)\n",
        "val_doc_bin = create_docbin(val_data, nlp)"
      ],
      "metadata": {
        "id": "rSkgJxHHWRqS"
      },
      "execution_count": 26,
      "outputs": []
    },
    {
      "cell_type": "code",
      "source": [
        "train_doc_bin"
      ],
      "metadata": {
        "colab": {
          "base_uri": "https://localhost:8080/"
        },
        "id": "AWKQuSLdWTMk",
        "outputId": "7a4648be-322a-4388-8c60-7e5c1acc44b0"
      },
      "execution_count": 27,
      "outputs": [
        {
          "output_type": "execute_result",
          "data": {
            "text/plain": [
              "<spacy.tokens._serialize.DocBin at 0x79c992e58af0>"
            ]
          },
          "metadata": {},
          "execution_count": 27
        }
      ]
    },
    {
      "cell_type": "code",
      "source": [
        "from collections import Counter\n",
        "\n",
        "# Function to get label distribution\n",
        "def get_label_distribution(data):\n",
        "    labels = []\n",
        "    for text, annot in data:\n",
        "        for start, end, label in annot['entities']:\n",
        "            labels.append(label)\n",
        "    return Counter(labels)"
      ],
      "metadata": {
        "id": "hwxanrmGWVAF"
      },
      "execution_count": 28,
      "outputs": []
    },
    {
      "cell_type": "code",
      "source": [
        "# Get distribution for each dataset\n",
        "train_distribution = get_label_distribution(train_data)\n",
        "val_distribution = get_label_distribution(val_data)\n",
        "test_distribution = get_label_distribution(test_data)"
      ],
      "metadata": {
        "id": "dw9Z05vEWZyA"
      },
      "execution_count": 29,
      "outputs": []
    },
    {
      "cell_type": "code",
      "source": [
        "# Convert distribution data to DataFrame\n",
        "def distribution_to_df(distribution, dataset_name):\n",
        "    df = pd.DataFrame(distribution.items(), columns=['Label', 'Count'])\n",
        "    df['Dataset'] = dataset_name\n",
        "    return df\n",
        "\n",
        "# Get distributions\n",
        "train_df = distribution_to_df(train_distribution, 'Training')\n",
        "val_df = distribution_to_df(val_distribution, 'Validation')\n",
        "test_df = distribution_to_df(test_distribution, 'Test')\n",
        "\n",
        "# Combine all into a single DataFrame\n",
        "df = pd.concat([train_df, val_df, test_df], ignore_index=True)"
      ],
      "metadata": {
        "id": "AHbi8Wf-Wbuu"
      },
      "execution_count": 30,
      "outputs": []
    },
    {
      "cell_type": "code",
      "source": [
        "import matplotlib.pyplot as plt\n",
        "# Plot the distribution\n",
        "plt.figure(figsize=(15, 6))\n",
        "sns.barplot(x='Label', y='Count', hue='Dataset', data=df)\n",
        "plt.title('Label Distribution Across Datasets')\n",
        "plt.xticks(rotation=90)\n",
        "plt.show()\n"
      ],
      "metadata": {
        "colab": {
          "base_uri": "https://localhost:8080/",
          "height": 533
        },
        "id": "2KV_DvaBWpjc",
        "outputId": "317ee755-9dd1-4797-c23f-ab5ff444eb2b"
      },
      "execution_count": 32,
      "outputs": [
        {
          "output_type": "display_data",
          "data": {
            "text/plain": [
              "<Figure size 1500x600 with 1 Axes>"
            ],
            "image/png": "[encoded data removed]"
          },
          "metadata": {}
        }
      ]
    },
    {
      "cell_type": "code",
      "source": [
        "# Training the model\n",
        "optimizer = nlp.resume_training()"
      ],
      "metadata": {
        "id": "yonylskIWuk-"
      },
      "execution_count": 33,
      "outputs": []
    },
    {
      "cell_type": "code",
      "source": [
        "# Fine-tuning the model\n",
        "for i in range(20):\n",
        "    losses = {}\n",
        "    batches = minibatch(train_data, size=8)\n",
        "    for batch in batches:\n",
        "        texts, annotations = zip(*batch)\n",
        "        examples = [Example.from_dict(nlp.make_doc(text), ann) for text, ann in zip(texts, annotations)]\n",
        "        nlp.update(examples, drop=0.35, losses=losses)\n",
        "    print(f\"Iteration {i}: Losses {losses}\")"
      ],
      "metadata": {
        "colab": {
          "base_uri": "https://localhost:8080/"
        },
        "id": "KY7Sky-mWxQZ",
        "outputId": "b9d91360-977e-432c-c4d6-c3ac5b74fbc1"
      },
      "execution_count": 34,
      "outputs": [
        {
          "output_type": "stream",
          "name": "stdout",
          "text": [
            "Iteration 0: Losses {'tok2vec': 0.0, 'tagger': 0.0, 'parser': 0.0, 'ner': 6744.164304474431}\n",
            "Iteration 1: Losses {'tok2vec': 0.0, 'tagger': 0.0, 'parser': 0.0, 'ner': 5647.376135010696}\n",
            "Iteration 2: Losses {'tok2vec': 0.0, 'tagger': 0.0, 'parser': 0.0, 'ner': 5298.068667535629}\n",
            "Iteration 3: Losses {'tok2vec': 0.0, 'tagger': 0.0, 'parser': 0.0, 'ner': 5247.5163785496725}\n",
            "Iteration 4: Losses {'tok2vec': 0.0, 'tagger': 0.0, 'parser': 0.0, 'ner': 4259.424813317744}\n",
            "Iteration 5: Losses {'tok2vec': 0.0, 'tagger': 0.0, 'parser': 0.0, 'ner': 4150.170418676321}\n",
            "Iteration 6: Losses {'tok2vec': 0.0, 'tagger': 0.0, 'parser': 0.0, 'ner': 3958.5153864108393}\n",
            "Iteration 7: Losses {'tok2vec': 0.0, 'tagger': 0.0, 'parser': 0.0, 'ner': 3494.3577573181037}\n",
            "Iteration 8: Losses {'tok2vec': 0.0, 'tagger': 0.0, 'parser': 0.0, 'ner': 3050.9654826906835}\n",
            "Iteration 9: Losses {'tok2vec': 0.0, 'tagger': 0.0, 'parser': 0.0, 'ner': 3275.6778789279724}\n",
            "Iteration 10: Losses {'tok2vec': 0.0, 'tagger': 0.0, 'parser': 0.0, 'ner': 2628.3693793722186}\n",
            "Iteration 11: Losses {'tok2vec': 0.0, 'tagger': 0.0, 'parser': 0.0, 'ner': 2238.868300898257}\n",
            "Iteration 12: Losses {'tok2vec': 0.0, 'tagger': 0.0, 'parser': 0.0, 'ner': 2428.7666523508415}\n",
            "Iteration 13: Losses {'tok2vec': 0.0, 'tagger': 0.0, 'parser': 0.0, 'ner': 2292.738546571177}\n",
            "Iteration 14: Losses {'tok2vec': 0.0, 'tagger': 0.0, 'parser': 0.0, 'ner': 2050.5142447269545}\n",
            "Iteration 15: Losses {'tok2vec': 0.0, 'tagger': 0.0, 'parser': 0.0, 'ner': 1942.1721502075168}\n",
            "Iteration 16: Losses {'tok2vec': 0.0, 'tagger': 0.0, 'parser': 0.0, 'ner': 2014.9746239209162}\n",
            "Iteration 17: Losses {'tok2vec': 0.0, 'tagger': 0.0, 'parser': 0.0, 'ner': 1835.995372160897}\n",
            "Iteration 18: Losses {'tok2vec': 0.0, 'tagger': 0.0, 'parser': 0.0, 'ner': 1756.3206926523999}\n",
            "Iteration 19: Losses {'tok2vec': 0.0, 'tagger': 0.0, 'parser': 0.0, 'ner': 1723.266519415159}\n"
          ]
        }
      ]
    },
    {
      "cell_type": "code",
      "source": [
        "# Save  trained model\n",
        "nlp.to_disk(\"custom_ner_model\")"
      ],
      "metadata": {
        "id": "B5tyBS08WytR"
      },
      "execution_count": 35,
      "outputs": []
    },
    {
      "cell_type": "code",
      "source": [
        "# Load  trained model\n",
        "nlp = spacy.load(\"custom_ner_model\")"
      ],
      "metadata": {
        "id": "J478SyHkXMIh"
      },
      "execution_count": 36,
      "outputs": []
    },
    {
      "cell_type": "code",
      "source": [
        "#Model Evaluation\n",
        "def evaluate_model(nlp, data):\n",
        "    results = []\n",
        "    for text, annot in data:\n",
        "        doc = nlp(text)\n",
        "        true_entities = [(start, end, label) for start, end, label in annot['entities']]\n",
        "        pred_entities = [(ent.start_char, ent.end_char, ent.label_) for ent in doc.ents]\n",
        "        results.append((true_entities, pred_entities, text))  # Ensure the tuple is in this format\n",
        "    return results\n"
      ],
      "metadata": {
        "id": "3EUYfkQ4XMGq"
      },
      "execution_count": 37,
      "outputs": []
    },
    {
      "cell_type": "code",
      "source": [
        "# Evaluate on validation set\n",
        "val_results = evaluate_model(nlp, val_data)\n",
        "# Evaluate on test set\n",
        "test_results = evaluate_model(nlp, test_data)"
      ],
      "metadata": {
        "id": "qjconvDsXMEa"
      },
      "execution_count": 38,
      "outputs": []
    },
    {
      "cell_type": "code",
      "source": [
        "def flatten_results_by_token(nlp, results):\n",
        "    true_labels = []\n",
        "    pred_labels = []\n",
        "\n",
        "    for result in results:\n",
        "        true_entities = result[0]  # Extract true_entities\n",
        "        pred_entities = result[1]  # Extract pred_entities\n",
        "\n",
        "        true_dict = {(start, end): label for start, end, label in true_entities}\n",
        "        pred_dict = {(start, end): label for start, end, label in pred_entities}\n",
        "\n",
        "        # Collect all unique start positions\n",
        "        all_starts = sorted(set([start for start, end in true_dict.keys()] + [start for start, end in pred_dict.keys()]))\n",
        "\n",
        "        for start in all_starts:\n",
        "            # Use token alignment with start position\n",
        "            true_label = true_dict.get((start, start+1), 'O')\n",
        "            pred_label = pred_dict.get((start, start+1), 'O')\n",
        "            true_labels.append(true_label)\n",
        "            pred_labels.append(pred_label)\n",
        "\n",
        "    return true_labels, pred_labels\n"
      ],
      "metadata": {
        "id": "In8qYtqhXMCS"
      },
      "execution_count": 39,
      "outputs": []
    },
    {
      "cell_type": "code",
      "source": [
        "val_true_labels, val_pred_labels = flatten_results_by_token(nlp, val_results)\n",
        "test_true_labels, test_pred_labels = flatten_results_by_token(nlp, test_results)"
      ],
      "metadata": {
        "id": "fY-rSFreXMAW"
      },
      "execution_count": 40,
      "outputs": []
    },
    {
      "cell_type": "code",
      "source": [
        "from sklearn.metrics import confusion_matrix, precision_recall_curve, average_precision_score,classification_report\n",
        "# Calculate classification report for validation set\n",
        "val_report = classification_report(val_true_labels, val_pred_labels, zero_division=1)\n",
        "print(\"Validation Classification Report:\")\n",
        "print(val_report)\n",
        "\n",
        "# Calculate classification report for test set\n",
        "test_report = classification_report(test_true_labels, test_pred_labels, zero_division=1)\n",
        "print(\"Test Classification Report:\")\n",
        "print(test_report)"
      ],
      "metadata": {
        "colab": {
          "base_uri": "https://localhost:8080/"
        },
        "id": "07z9IQTlXL-h",
        "outputId": "7ca12a02-692f-4877-8f58-3233b318e321"
      },
      "execution_count": 41,
      "outputs": [
        {
          "output_type": "stream",
          "name": "stdout",
          "text": [
            "Validation Classification Report:\n",
            "              precision    recall  f1-score   support\n",
            "\n",
            "           O       1.00      1.00      1.00       372\n",
            "\n",
            "    accuracy                           1.00       372\n",
            "   macro avg       1.00      1.00      1.00       372\n",
            "weighted avg       1.00      1.00      1.00       372\n",
            "\n",
            "Test Classification Report:\n",
            "              precision    recall  f1-score   support\n",
            "\n",
            "           O       1.00      1.00      1.00       334\n",
            "\n",
            "    accuracy                           1.00       334\n",
            "   macro avg       1.00      1.00      1.00       334\n",
            "weighted avg       1.00      1.00      1.00       334\n",
            "\n"
          ]
        }
      ]
    },
    {
      "cell_type": "code",
      "source": [
        "import matplotlib.pyplot as plt\n",
        "# Confusion Matrix for Validation Set\n",
        "val_cm = confusion_matrix(val_true_labels, val_pred_labels)\n",
        "plt.figure(figsize=(10, 7))\n",
        "sns.heatmap(val_cm, annot=True, fmt='d', cmap='Blues')\n",
        "plt.xlabel('Predicted Labels')\n",
        "plt.ylabel('True Labels')\n",
        "plt.title('Confusion Matrix - Validation Set')\n",
        "plt.show()\n"
      ],
      "metadata": {
        "colab": {
          "base_uri": "https://localhost:8080/",
          "height": 641
        },
        "id": "TcwoJa6Vd582",
        "outputId": "9a729c8e-59ab-4c08-d528-afb0cdeea3e8"
      },
      "execution_count": 42,
      "outputs": [
        {
          "output_type": "display_data",
          "data": {
            "text/plain": [
              "<Figure size 1000x700 with 2 Axes>"
            ],
            "image/png": "[encoded data removed]"
          },
          "metadata": {}
        }
      ]
    },
    {
      "cell_type": "code",
      "source": [
        "# Confusion Matrix for Test Set\n",
        "test_cm = confusion_matrix(test_true_labels, test_pred_labels)\n",
        "plt.figure(figsize=(10, 7))\n",
        "sns.heatmap(test_cm, annot=True, fmt='d', cmap='Blues')\n",
        "plt.xlabel('Predicted Labels')\n",
        "plt.ylabel('True Labels')\n",
        "plt.title('Confusion Matrix - Test Set')\n",
        "plt.show()"
      ],
      "metadata": {
        "colab": {
          "base_uri": "https://localhost:8080/",
          "height": 641
        },
        "id": "QgxLJuuod1dt",
        "outputId": "a11682d7-2135-4c3c-bc32-351c94b8a7fb"
      },
      "execution_count": 43,
      "outputs": [
        {
          "output_type": "display_data",
          "data": {
            "text/plain": [
              "<Figure size 1000x700 with 2 Axes>"
            ],
            "image/png": "[encoded data removed]"
          },
          "metadata": {}
        }
      ]
    },
    {
      "cell_type": "code",
      "source": [
        "# Precision-Recall Curve (Example for a specific label, adapt as needed)\n",
        "from sklearn.preprocessing import label_binarize\n",
        "\n",
        "# Assuming 'ORG' is a label you want to plot\n",
        "val_true_binary = label_binarize(val_true_labels, classes=['O', 'ORG'])\n",
        "val_pred_scores = label_binarize(val_pred_labels, classes=['O', 'ORG'])\n",
        "\n",
        "# Access the correct column (index 0 for the first and only column)\n",
        "precision, recall, _ = precision_recall_curve(val_true_binary[:, 0], val_pred_scores[:, 0])\n",
        "average_precision = average_precision_score(val_true_binary[:, 0], val_pred_scores[:, 0])\n",
        "\n",
        "plt.figure()\n",
        "plt.step(recall, precision, where='post')\n",
        "plt.xlabel('Recall')\n",
        "plt.ylabel('Precision')\n",
        "plt.title('Precision-Recall Curve for \"ORG\" Label (Validation Set)')\n",
        "plt.show()"
      ],
      "metadata": {
        "colab": {
          "base_uri": "https://localhost:8080/",
          "height": 561
        },
        "id": "s9r7RLOIdyX4",
        "outputId": "a02d3881-76bf-4c57-f56f-91d1d8d3fcb4"
      },
      "execution_count": 45,
      "outputs": [
        {
          "output_type": "stream",
          "name": "stderr",
          "text": [
            "/usr/local/lib/python3.10/dist-packages/sklearn/metrics/_ranking.py:891: UserWarning: No positive class found in y_true, recall is set to one for all thresholds.\n",
            "  warnings.warn(\n",
            "/usr/local/lib/python3.10/dist-packages/sklearn/metrics/_ranking.py:891: UserWarning: No positive class found in y_true, recall is set to one for all thresholds.\n",
            "  warnings.warn(\n"
          ]
        },
        {
          "output_type": "display_data",
          "data": {
            "text/plain": [
              "<Figure size 640x480 with 1 Axes>"
            ],
            "image/png": "[encoded data removed]"
          },
          "metadata": {}
        }
      ]
    },
    {
      "cell_type": "code",
      "source": [
        "#  labels from predictions\n",
        "pred_labels = [ent.label_ for doc in nlp.pipe([text for text, _ in val_data]) for ent in doc.ents]\n",
        "\n",
        "# distribution\n",
        "pred_distribution = Counter(pred_labels)\n",
        "pred_df = pd.DataFrame(pred_distribution.items(), columns=['Label', 'Count'])\n",
        "\n",
        "# Plot distribution\n",
        "plt.figure(figsize=(14, 8))\n",
        "sns.barplot(x='Label', y='Count', data=pred_df, palette='viridis')\n",
        "plt.title('Predicted Label Distribution')\n",
        "plt.xlabel('Labels')\n",
        "plt.ylabel('Count')\n",
        "plt.xticks(rotation=45)\n",
        "plt.show()"
      ],
      "metadata": {
        "colab": {
          "base_uri": "https://localhost:8080/",
          "height": 826
        },
        "id": "OJlkeAycd-8q",
        "outputId": "b81eb501-eb50-47b5-86e6-7ef624161b67"
      },
      "execution_count": 46,
      "outputs": [
        {
          "output_type": "stream",
          "name": "stderr",
          "text": [
            "<ipython-input-46-8179afba0e54>:10: FutureWarning: \n",
            "\n",
            "Passing `palette` without assigning `hue` is deprecated and will be removed in v0.14.0. Assign the `x` variable to `hue` and set `legend=False` for the same effect.\n",
            "\n",
            "  sns.barplot(x='Label', y='Count', data=pred_df, palette='viridis')\n"
          ]
        },
        {
          "output_type": "display_data",
          "data": {
            "text/plain": [
              "<Figure size 1400x800 with 1 Axes>"
            ],
            "image/png": "[encoded data removed]"
          },
          "metadata": {}
        }
      ]
    },
    {
      "cell_type": "code",
      "source": [
        "from spacy import displacy\n",
        "\n",
        "def visualize_entities_with_displacy(text, true_entities, pred_entities):\n",
        "    doc = nlp(text)\n",
        "\n",
        "    # Set up colors\n",
        "    colors = {\n",
        "    \"B-eve\": \"#ff9999\",\n",
        "    \"B-geo\": \"#66b3ff\",\n",
        "    \"B-org\": \"#99ff99\",\n",
        "    \"B-tim\": \"#ffcc99\",\n",
        "    \"I-art\": \"#c2c2f0\",\n",
        "    \"I-eve\": \"#ffb3e6\",\n",
        "    \"I-geo\": \"#c2f0c2\",\n",
        "    \"I-org\": \"#c4e17f\",\n",
        "    \"I-per\": \"#ffb3b3\",\n",
        "    \"I-tim\": \"#b3b3b3\"\n",
        "    }\n",
        "\n",
        "    # Create annotations for true entities\n",
        "    true_annotations = {\"entities\": true_entities}\n",
        "\n",
        "    # Render true entities\n",
        "    print(\"True Entities:\")\n",
        "    displacy.render(doc, style=\"ent\", options={\"colors\": colors})\n",
        "\n",
        "    # Create a new Doc object for predictions\n",
        "    doc_pred = nlp(text)\n",
        "    doc_pred.ents = [doc_pred.char_span(start, end, label) for start, end, label in pred_entities]\n",
        "\n",
        "    # Render predicted entities\n",
        "    print(\"Predicted Entities:\")\n",
        "    displacy.render(doc_pred, style=\"ent\", options={\"colors\": colors})\n",
        "\n",
        "# Example usage\n",
        "for text, annot in val_data[3:5]:\n",
        "    true_entities = annot['entities']\n",
        "    pred_entities = [(ent.start_char, ent.end_char, ent.label_) for ent in nlp(text).ents]\n",
        "    if true_entities or pred_entities:  # Plot only if there are entities to show\n",
        "        visualize_entities_with_displacy(text, true_entities, pred_entities)\n",
        "    else:\n",
        "        print(\"No entities found in this example.\")"
      ],
      "metadata": {
        "colab": {
          "base_uri": "https://localhost:8080/",
          "height": 226
        },
        "id": "MhEbMhP0ee7y",
        "outputId": "ca540eb7-72a2-4e60-d876-14abf4ec8cc7"
      },
      "execution_count": 47,
      "outputs": [
        {
          "output_type": "stream",
          "name": "stdout",
          "text": [
            "True Entities:\n"
          ]
        },
        {
          "output_type": "display_data",
          "data": {
            "text/plain": [
              "<IPython.core.display.HTML object>"
            ],
            "text/html": [
              "<span class=\"tex2jax_ignore\"><div class=\"entities\" style=\"line-height: 2.5; direction: ltr\">['Forensic', 'experts', 'have', 'concluded', 'work', 'on', 'a', 'mass', 'grave', 'in', 'northwestern', \n",
              "<mark class=\"entity\" style=\"background: #66b3ff; padding: 0.45em 0.6em; margin: 0 0.25em; line-height: 1; border-radius: 0.35em;\">\n",
              "    'Bosnia-Herzegovina',\n",
              "    <span style=\"font-size: 0.8em; font-weight: bold; line-height: 1; border-radius: 0.35em; vertical-align: middle; margin-left: 0.5rem\">B-geo</span>\n",
              "</mark>\n",
              " ',', 'exhuming', '454', 'bodies', '.']</div></span>"
            ]
          },
          "metadata": {}
        },
        {
          "output_type": "stream",
          "name": "stdout",
          "text": [
            "Predicted Entities:\n"
          ]
        },
        {
          "output_type": "display_data",
          "data": {
            "text/plain": [
              "<IPython.core.display.HTML object>"
            ],
            "text/html": [
              "<span class=\"tex2jax_ignore\"><div class=\"entities\" style=\"line-height: 2.5; direction: ltr\">['Forensic', 'experts', 'have', 'concluded', 'work', 'on', 'a', 'mass', 'grave', 'in', 'northwestern', \n",
              "<mark class=\"entity\" style=\"background: #66b3ff; padding: 0.45em 0.6em; margin: 0 0.25em; line-height: 1; border-radius: 0.35em;\">\n",
              "    'Bosnia-Herzegovina',\n",
              "    <span style=\"font-size: 0.8em; font-weight: bold; line-height: 1; border-radius: 0.35em; vertical-align: middle; margin-left: 0.5rem\">B-geo</span>\n",
              "</mark>\n",
              " ',', 'exhuming', '454', 'bodies', '.']</div></span>"
            ]
          },
          "metadata": {}
        },
        {
          "output_type": "stream",
          "name": "stdout",
          "text": [
            "True Entities:\n"
          ]
        },
        {
          "output_type": "display_data",
          "data": {
            "text/plain": [
              "<IPython.core.display.HTML object>"
            ],
            "text/html": [
              "<span class=\"tex2jax_ignore\"><div class=\"entities\" style=\"line-height: 2.5; direction: ltr\">['The', 'victims', 'are', 'believed', 'to', 'have', 'been', 'buried', 'in', 'other', 'areas', 'then', 'moved', 'to', \n",
              "<mark class=\"entity\" style=\"background: #66b3ff; padding: 0.45em 0.6em; margin: 0 0.25em; line-height: 1; border-radius: 0.35em;\">\n",
              "    'Kevljani',\n",
              "    <span style=\"font-size: 0.8em; font-weight: bold; line-height: 1; border-radius: 0.35em; vertical-align: middle; margin-left: 0.5rem\">B-geo</span>\n",
              "</mark>\n",
              " '.']</div></span>"
            ]
          },
          "metadata": {}
        },
        {
          "output_type": "stream",
          "name": "stdout",
          "text": [
            "Predicted Entities:\n"
          ]
        },
        {
          "output_type": "display_data",
          "data": {
            "text/plain": [
              "<IPython.core.display.HTML object>"
            ],
            "text/html": [
              "<span class=\"tex2jax_ignore\"><div class=\"entities\" style=\"line-height: 2.5; direction: ltr\">['The', 'victims', 'are', 'believed', 'to', 'have', 'been', 'buried', 'in', 'other', 'areas', 'then', 'moved', 'to', \n",
              "<mark class=\"entity\" style=\"background: #66b3ff; padding: 0.45em 0.6em; margin: 0 0.25em; line-height: 1; border-radius: 0.35em;\">\n",
              "    'Kevljani',\n",
              "    <span style=\"font-size: 0.8em; font-weight: bold; line-height: 1; border-radius: 0.35em; vertical-align: middle; margin-left: 0.5rem\">B-geo</span>\n",
              "</mark>\n",
              " '.']</div></span>"
            ]
          },
          "metadata": {}
        }
      ]
    },
    {
      "cell_type": "code",
      "source": [],
      "metadata": {
        "id": "nkh9nck-efpq"
      },
      "execution_count": null,
      "outputs": []
    }
  ]
}